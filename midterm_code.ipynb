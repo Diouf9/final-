{
  "nbformat": 4,
  "nbformat_minor": 0,
  "metadata": {
    "colab": {
      "provenance": []
    },
    "kernelspec": {
      "name": "python3",
      "display_name": "Python 3"
    },
    "language_info": {
      "name": "python"
    }
  },
  "cells": [
    {
      "cell_type": "code",
      "execution_count": null,
      "metadata": {
        "colab": {
          "base_uri": "https://localhost:8080/"
        },
        "id": "1LhoQsyrMj-E",
        "outputId": "a71e140e-4a0e-4ddd-82ed-2b100ca90064"
      },
      "outputs": [
        {
          "output_type": "stream",
          "name": "stdout",
          "text": [
            "Drive already mounted at /content/drive; to attempt to forcibly remount, call drive.mount(\"/content/drive\", force_remount=True).\n"
          ]
        }
      ],
      "source": [
        "from google.colab import drive\n",
        "drive.mount('/content/drive')\n"
      ]
    },
    {
      "cell_type": "code",
      "source": [
        "import csv\n",
        "import pandas as pd\n",
        "import matplotlib.pyplot as plt\n"
      ],
      "metadata": {
        "id": "JtHYiFVLQvRq"
      },
      "execution_count": null,
      "outputs": []
    },
    {
      "cell_type": "code",
      "source": [
        "df = pd.read_csv(\"/content/drive/MyDrive/DATA/senegal.csv\")\n",
        "df\n",
        "df.head()\n",
        "\n"
      ],
      "metadata": {
        "colab": {
          "base_uri": "https://localhost:8080/",
          "height": 490
        },
        "id": "KE9M4cM_Qvf1",
        "outputId": "0bb95deb-8f25-4b2a-c634-1c30155a665b"
      },
      "execution_count": null,
      "outputs": [
        {
          "output_type": "execute_result",
          "data": {
            "text/plain": [
              "   Index Region, subregion, country or area *  Year TotalPopulation  \\\n",
              "0   5981                              Senegal  1950           2 496   \n",
              "1   5982                              Senegal  1951           2 561   \n",
              "2   5983                              Senegal  1952           2 629   \n",
              "3   5984                              Senegal  1953           2 698   \n",
              "4   5985                              Senegal  1954           2 771   \n",
              "\n",
              "  Male Population, as of 1 July (thousands)  \\\n",
              "0                                     1 219   \n",
              "1                                     1 254   \n",
              "2                                     1 291   \n",
              "3                                     1 328   \n",
              "4                                     1 367   \n",
              "\n",
              "  Female Population, as of 1 July (thousands)  \\\n",
              "0                                       1 277   \n",
              "1                                       1 307   \n",
              "2                                       1 338   \n",
              "3                                       1 370   \n",
              "4                                       1 404   \n",
              "\n",
              "   Population Density, as of 1 July (persons per square km)  \\\n",
              "0                                               13.0          \n",
              "1                                               13.3          \n",
              "2                                               13.7          \n",
              "3                                               14.0          \n",
              "4                                               14.4          \n",
              "\n",
              "   Population Sex Ratio, as of 1 July (males per 100 females)  \\\n",
              "0                                               95.5            \n",
              "1                                               96.0            \n",
              "2                                               96.5            \n",
              "3                                               96.9            \n",
              "4                                               97.4            \n",
              "\n",
              "   Median Age, as of 1 July (years)  \\\n",
              "0                              18.0   \n",
              "1                              17.9   \n",
              "2                              17.8   \n",
              "3                              17.8   \n",
              "4                              17.7   \n",
              "\n",
              "   Natural Change, Births minus Deaths (thousands)  ...  \\\n",
              "0                                               59  ...   \n",
              "1                                               60  ...   \n",
              "2                                               62  ...   \n",
              "3                                               64  ...   \n",
              "4                                               67  ...   \n",
              "\n",
              "   Male Mortality before Age 60 (deaths under age 60 per 1,000 male live births)  \\\n",
              "0                                                664                               \n",
              "1                                                659                               \n",
              "2                                                654                               \n",
              "3                                                647                               \n",
              "4                                                643                               \n",
              "\n",
              "   Female Mortality before Age 60 (deaths under age 60 per 1,000 female live births)  \\\n",
              "0                                                659                                   \n",
              "1                                                652                                   \n",
              "2                                                647                                   \n",
              "3                                                642                                   \n",
              "4                                                637                                   \n",
              "\n",
              "   Mortality between Age 15 and 50, both sexes (deaths under age 50 per 1,000 alive at age 15)  \\\n",
              "0                                                310                                             \n",
              "1                                                307                                             \n",
              "2                                                304                                             \n",
              "3                                                301                                             \n",
              "4                                                299                                             \n",
              "\n",
              "   Male Mortality between Age 15 and 50 (deaths under age 50 per 1,000 males alive at age 15)  \\\n",
              "0                                                305                                            \n",
              "1                                                302                                            \n",
              "2                                                300                                            \n",
              "3                                                295                                            \n",
              "4                                                294                                            \n",
              "\n",
              "   Female Mortality between Age 15 and 50 (deaths under age 50 per 1,000 females alive at age 15)  \\\n",
              "0                                                315                                                \n",
              "1                                                311                                                \n",
              "2                                                309                                                \n",
              "3                                                306                                                \n",
              "4                                                304                                                \n",
              "\n",
              "   Mortality between Age 15 and 60, both sexes (deaths under age 60 per 1,000 alive at age 15)  \\\n",
              "0                                                448                                             \n",
              "1                                                444                                             \n",
              "2                                                441                                             \n",
              "3                                                437                                             \n",
              "4                                                435                                             \n",
              "\n",
              "   Male Mortality between Age 15 and 60 (deaths under age 60 per 1,000 males alive at age 15)  \\\n",
              "0                                                453                                            \n",
              "1                                                450                                            \n",
              "2                                                447                                            \n",
              "3                                                442                                            \n",
              "4                                                440                                            \n",
              "\n",
              "   Female Mortality between Age 15 and 60 (deaths under age 60 per 1,000 females alive at age 15)  \\\n",
              "0                                                444                                                \n",
              "1                                                439                                                \n",
              "2                                                436                                                \n",
              "3                                                434                                                \n",
              "4                                                431                                                \n",
              "\n",
              "   Net Number of Migrants (thousands)  \\\n",
              "0                                   5   \n",
              "1                                   6   \n",
              "2                                   6   \n",
              "3                                   7   \n",
              "4                                   7   \n",
              "\n",
              "   Net Migration Rate (per 1,000 population)  \n",
              "0                                        2.1  \n",
              "1                                        2.3  \n",
              "2                                        2.4  \n",
              "3                                        2.6  \n",
              "4                                        2.7  \n",
              "\n",
              "[5 rows x 56 columns]"
            ],
            "text/html": [
              "\n",
              "  <div id=\"df-89e63c4c-d281-46ad-bb5b-e7b89970d178\">\n",
              "    <div class=\"colab-df-container\">\n",
              "      <div>\n",
              "<style scoped>\n",
              "    .dataframe tbody tr th:only-of-type {\n",
              "        vertical-align: middle;\n",
              "    }\n",
              "\n",
              "    .dataframe tbody tr th {\n",
              "        vertical-align: top;\n",
              "    }\n",
              "\n",
              "    .dataframe thead th {\n",
              "        text-align: right;\n",
              "    }\n",
              "</style>\n",
              "<table border=\"1\" class=\"dataframe\">\n",
              "  <thead>\n",
              "    <tr style=\"text-align: right;\">\n",
              "      <th></th>\n",
              "      <th>Index</th>\n",
              "      <th>Region, subregion, country or area *</th>\n",
              "      <th>Year</th>\n",
              "      <th>TotalPopulation</th>\n",
              "      <th>Male Population, as of 1 July (thousands)</th>\n",
              "      <th>Female Population, as of 1 July (thousands)</th>\n",
              "      <th>Population Density, as of 1 July (persons per square km)</th>\n",
              "      <th>Population Sex Ratio, as of 1 July (males per 100 females)</th>\n",
              "      <th>Median Age, as of 1 July (years)</th>\n",
              "      <th>Natural Change, Births minus Deaths (thousands)</th>\n",
              "      <th>...</th>\n",
              "      <th>Male Mortality before Age 60 (deaths under age 60 per 1,000 male live births)</th>\n",
              "      <th>Female Mortality before Age 60 (deaths under age 60 per 1,000 female live births)</th>\n",
              "      <th>Mortality between Age 15 and 50, both sexes (deaths under age 50 per 1,000 alive at age 15)</th>\n",
              "      <th>Male Mortality between Age 15 and 50 (deaths under age 50 per 1,000 males alive at age 15)</th>\n",
              "      <th>Female Mortality between Age 15 and 50 (deaths under age 50 per 1,000 females alive at age 15)</th>\n",
              "      <th>Mortality between Age 15 and 60, both sexes (deaths under age 60 per 1,000 alive at age 15)</th>\n",
              "      <th>Male Mortality between Age 15 and 60 (deaths under age 60 per 1,000 males alive at age 15)</th>\n",
              "      <th>Female Mortality between Age 15 and 60 (deaths under age 60 per 1,000 females alive at age 15)</th>\n",
              "      <th>Net Number of Migrants (thousands)</th>\n",
              "      <th>Net Migration Rate (per 1,000 population)</th>\n",
              "    </tr>\n",
              "  </thead>\n",
              "  <tbody>\n",
              "    <tr>\n",
              "      <th>0</th>\n",
              "      <td>5981</td>\n",
              "      <td>Senegal</td>\n",
              "      <td>1950</td>\n",
              "      <td>2 496</td>\n",
              "      <td>1 219</td>\n",
              "      <td>1 277</td>\n",
              "      <td>13.0</td>\n",
              "      <td>95.5</td>\n",
              "      <td>18.0</td>\n",
              "      <td>59</td>\n",
              "      <td>...</td>\n",
              "      <td>664</td>\n",
              "      <td>659</td>\n",
              "      <td>310</td>\n",
              "      <td>305</td>\n",
              "      <td>315</td>\n",
              "      <td>448</td>\n",
              "      <td>453</td>\n",
              "      <td>444</td>\n",
              "      <td>5</td>\n",
              "      <td>2.1</td>\n",
              "    </tr>\n",
              "    <tr>\n",
              "      <th>1</th>\n",
              "      <td>5982</td>\n",
              "      <td>Senegal</td>\n",
              "      <td>1951</td>\n",
              "      <td>2 561</td>\n",
              "      <td>1 254</td>\n",
              "      <td>1 307</td>\n",
              "      <td>13.3</td>\n",
              "      <td>96.0</td>\n",
              "      <td>17.9</td>\n",
              "      <td>60</td>\n",
              "      <td>...</td>\n",
              "      <td>659</td>\n",
              "      <td>652</td>\n",
              "      <td>307</td>\n",
              "      <td>302</td>\n",
              "      <td>311</td>\n",
              "      <td>444</td>\n",
              "      <td>450</td>\n",
              "      <td>439</td>\n",
              "      <td>6</td>\n",
              "      <td>2.3</td>\n",
              "    </tr>\n",
              "    <tr>\n",
              "      <th>2</th>\n",
              "      <td>5983</td>\n",
              "      <td>Senegal</td>\n",
              "      <td>1952</td>\n",
              "      <td>2 629</td>\n",
              "      <td>1 291</td>\n",
              "      <td>1 338</td>\n",
              "      <td>13.7</td>\n",
              "      <td>96.5</td>\n",
              "      <td>17.8</td>\n",
              "      <td>62</td>\n",
              "      <td>...</td>\n",
              "      <td>654</td>\n",
              "      <td>647</td>\n",
              "      <td>304</td>\n",
              "      <td>300</td>\n",
              "      <td>309</td>\n",
              "      <td>441</td>\n",
              "      <td>447</td>\n",
              "      <td>436</td>\n",
              "      <td>6</td>\n",
              "      <td>2.4</td>\n",
              "    </tr>\n",
              "    <tr>\n",
              "      <th>3</th>\n",
              "      <td>5984</td>\n",
              "      <td>Senegal</td>\n",
              "      <td>1953</td>\n",
              "      <td>2 698</td>\n",
              "      <td>1 328</td>\n",
              "      <td>1 370</td>\n",
              "      <td>14.0</td>\n",
              "      <td>96.9</td>\n",
              "      <td>17.8</td>\n",
              "      <td>64</td>\n",
              "      <td>...</td>\n",
              "      <td>647</td>\n",
              "      <td>642</td>\n",
              "      <td>301</td>\n",
              "      <td>295</td>\n",
              "      <td>306</td>\n",
              "      <td>437</td>\n",
              "      <td>442</td>\n",
              "      <td>434</td>\n",
              "      <td>7</td>\n",
              "      <td>2.6</td>\n",
              "    </tr>\n",
              "    <tr>\n",
              "      <th>4</th>\n",
              "      <td>5985</td>\n",
              "      <td>Senegal</td>\n",
              "      <td>1954</td>\n",
              "      <td>2 771</td>\n",
              "      <td>1 367</td>\n",
              "      <td>1 404</td>\n",
              "      <td>14.4</td>\n",
              "      <td>97.4</td>\n",
              "      <td>17.7</td>\n",
              "      <td>67</td>\n",
              "      <td>...</td>\n",
              "      <td>643</td>\n",
              "      <td>637</td>\n",
              "      <td>299</td>\n",
              "      <td>294</td>\n",
              "      <td>304</td>\n",
              "      <td>435</td>\n",
              "      <td>440</td>\n",
              "      <td>431</td>\n",
              "      <td>7</td>\n",
              "      <td>2.7</td>\n",
              "    </tr>\n",
              "  </tbody>\n",
              "</table>\n",
              "<p>5 rows × 56 columns</p>\n",
              "</div>\n",
              "      <button class=\"colab-df-convert\" onclick=\"convertToInteractive('df-89e63c4c-d281-46ad-bb5b-e7b89970d178')\"\n",
              "              title=\"Convert this dataframe to an interactive table.\"\n",
              "              style=\"display:none;\">\n",
              "        \n",
              "  <svg xmlns=\"http://www.w3.org/2000/svg\" height=\"24px\"viewBox=\"0 0 24 24\"\n",
              "       width=\"24px\">\n",
              "    <path d=\"M0 0h24v24H0V0z\" fill=\"none\"/>\n",
              "    <path d=\"M18.56 5.44l.94 2.06.94-2.06 2.06-.94-2.06-.94-.94-2.06-.94 2.06-2.06.94zm-11 1L8.5 8.5l.94-2.06 2.06-.94-2.06-.94L8.5 2.5l-.94 2.06-2.06.94zm10 10l.94 2.06.94-2.06 2.06-.94-2.06-.94-.94-2.06-.94 2.06-2.06.94z\"/><path d=\"M17.41 7.96l-1.37-1.37c-.4-.4-.92-.59-1.43-.59-.52 0-1.04.2-1.43.59L10.3 9.45l-7.72 7.72c-.78.78-.78 2.05 0 2.83L4 21.41c.39.39.9.59 1.41.59.51 0 1.02-.2 1.41-.59l7.78-7.78 2.81-2.81c.8-.78.8-2.07 0-2.86zM5.41 20L4 18.59l7.72-7.72 1.47 1.35L5.41 20z\"/>\n",
              "  </svg>\n",
              "      </button>\n",
              "      \n",
              "  <style>\n",
              "    .colab-df-container {\n",
              "      display:flex;\n",
              "      flex-wrap:wrap;\n",
              "      gap: 12px;\n",
              "    }\n",
              "\n",
              "    .colab-df-convert {\n",
              "      background-color: #E8F0FE;\n",
              "      border: none;\n",
              "      border-radius: 50%;\n",
              "      cursor: pointer;\n",
              "      display: none;\n",
              "      fill: #1967D2;\n",
              "      height: 32px;\n",
              "      padding: 0 0 0 0;\n",
              "      width: 32px;\n",
              "    }\n",
              "\n",
              "    .colab-df-convert:hover {\n",
              "      background-color: #E2EBFA;\n",
              "      box-shadow: 0px 1px 2px rgba(60, 64, 67, 0.3), 0px 1px 3px 1px rgba(60, 64, 67, 0.15);\n",
              "      fill: #174EA6;\n",
              "    }\n",
              "\n",
              "    [theme=dark] .colab-df-convert {\n",
              "      background-color: #3B4455;\n",
              "      fill: #D2E3FC;\n",
              "    }\n",
              "\n",
              "    [theme=dark] .colab-df-convert:hover {\n",
              "      background-color: #434B5C;\n",
              "      box-shadow: 0px 1px 3px 1px rgba(0, 0, 0, 0.15);\n",
              "      filter: drop-shadow(0px 1px 2px rgba(0, 0, 0, 0.3));\n",
              "      fill: #FFFFFF;\n",
              "    }\n",
              "  </style>\n",
              "\n",
              "      <script>\n",
              "        const buttonEl =\n",
              "          document.querySelector('#df-89e63c4c-d281-46ad-bb5b-e7b89970d178 button.colab-df-convert');\n",
              "        buttonEl.style.display =\n",
              "          google.colab.kernel.accessAllowed ? 'block' : 'none';\n",
              "\n",
              "        async function convertToInteractive(key) {\n",
              "          const element = document.querySelector('#df-89e63c4c-d281-46ad-bb5b-e7b89970d178');\n",
              "          const dataTable =\n",
              "            await google.colab.kernel.invokeFunction('convertToInteractive',\n",
              "                                                     [key], {});\n",
              "          if (!dataTable) return;\n",
              "\n",
              "          const docLinkHtml = 'Like what you see? Visit the ' +\n",
              "            '<a target=\"_blank\" href=https://colab.research.google.com/notebooks/data_table.ipynb>data table notebook</a>'\n",
              "            + ' to learn more about interactive tables.';\n",
              "          element.innerHTML = '';\n",
              "          dataTable['output_type'] = 'display_data';\n",
              "          await google.colab.output.renderOutput(dataTable, element);\n",
              "          const docLink = document.createElement('div');\n",
              "          docLink.innerHTML = docLinkHtml;\n",
              "          element.appendChild(docLink);\n",
              "        }\n",
              "      </script>\n",
              "    </div>\n",
              "  </div>\n",
              "  "
            ]
          },
          "metadata": {},
          "execution_count": 134
        }
      ]
    },
    {
      "cell_type": "code",
      "source": [
        "df.iloc[0,5]\n",
        "df.loc[0, ['Year']]"
      ],
      "metadata": {
        "colab": {
          "base_uri": "https://localhost:8080/"
        },
        "id": "BeJARY-v7kpL",
        "outputId": "5a97c4c0-f18e-41bf-8e00-0bc01c623c2e"
      },
      "execution_count": null,
      "outputs": [
        {
          "output_type": "execute_result",
          "data": {
            "text/plain": [
              "TotalPopulation    2 496\n",
              "Name: 0, dtype: object"
            ]
          },
          "metadata": {},
          "execution_count": 147
        }
      ]
    },
    {
      "cell_type": "code",
      "source": [
        "df['Year'].plot.bar()"
      ],
      "metadata": {
        "colab": {
          "base_uri": "https://localhost:8080/",
          "height": 285
        },
        "id": "WmiBP7Nvz34p",
        "outputId": "a172a208-cff9-4afd-cf3a-614cd5698f45"
      },
      "execution_count": null,
      "outputs": [
        {
          "output_type": "execute_result",
          "data": {
            "text/plain": [
              "<Axes: >"
            ]
          },
          "metadata": {},
          "execution_count": 149
        },
        {
          "output_type": "display_data",
          "data": {
            "text/plain": [
              "<Figure size 432x288 with 1 Axes>"
            ],
            "image/png": "[encoded data removed]"
          },
          "metadata": {
            "needs_background": "light"
          }
        }
      ]
    },
    {
      "cell_type": "markdown",
      "source": [
        "import matplotlib.pyplot as plt\n",
        "plt.figure(figsize=(0, 4))\n",
        "plt.bar(df['TotalPopulation'],df['Male Population, as of 1 July (thousands)'])"
      ],
      "metadata": {
        "id": "Pb6DQEkU0xE1"
      }
    },
    {
      "cell_type": "code",
      "source": [
        "import matplotlib.pyplot as plt\n",
        "\n",
        "Year = ['1940','1950','1975','2000','2021']\n",
        "TotalPopulation = ['1000','2,496','5,048','9,704','16,877']\n",
        "\n",
        "colors = ['green', 'blue', 'purple', 'brown']\n",
        "plt.bar(Year, TotalPopulation, color=colors)\n",
        "plt.title('Total Population By Year in Senegal')\n",
        "plt.xlabel('Year by Date')\n",
        "plt.ylabel('Total Population')\n",
        "plt.show()"
      ],
      "metadata": {
        "colab": {
          "base_uri": "https://localhost:8080/",
          "height": 295
        },
        "id": "NxwRDpFD_Web",
        "outputId": "7b2c9824-f328-4f2b-9fde-91c5bce50966"
      },
      "execution_count": null,
      "outputs": [
        {
          "output_type": "display_data",
          "data": {
            "text/plain": [
              "<Figure size 432x288 with 1 Axes>"
            ],
            "image/png": "[encoded data removed]"
          },
          "metadata": {
            "needs_background": "light"
          }
        }
      ]
    },
    {
      "cell_type": "code",
      "source": [
        "import matplotlib.pyplot as plt\n",
        "\n",
        "colors = ['Teal', 'Magenta']\n",
        "Year = ['1950','1975','2000','2021']\n",
        "Males = [509, 409, 242, 106]\n",
        "Year2 = ['1950','1975','2000','2021']\n",
        "Females = [523, 408, 230, 81]\n",
        "\n",
        "plt.scatter(Year, Males, label = 'Males', color='Teal')\n",
        "plt.scatter(Year2,Females,label='Females',color='Magenta')\n",
        "\n",
        "plt.title('Mortality Rate by Gender')\n",
        "plt.xlabel('Year by Date')\n",
        "plt.ylabel('Female and Males')\n",
        "\n",
        "plt.legend()\n",
        "plt.show()"
      ],
      "metadata": {
        "colab": {
          "base_uri": "https://localhost:8080/",
          "height": 295
        },
        "id": "f2sojiotCOaz",
        "outputId": "1e9eb722-a0d2-42b5-dabc-f5077302ce29"
      },
      "execution_count": null,
      "outputs": [
        {
          "output_type": "display_data",
          "data": {
            "text/plain": [
              "<Figure size 432x288 with 1 Axes>"
            ],
            "image/png": "[encoded data removed]"
          },
          "metadata": {
            "needs_background": "light"
          }
        }
      ]
    },
    {
      "cell_type": "code",
      "source": [
        "import matplotlib.pyplot as plt\n",
        "\n",
        "Year=([1950,1975,2000,2021,])\n",
        "Males=([43.2,45.7, 50.7, 53.1])\n",
        "\n",
        "plt.plot(Year, Males)\n",
        "plt.title('Male Life Expectancy in Sengal for those aged 15 ')\n",
        "plt.xlabel('Years')\n",
        "plt.ylabel('Males aged 15')\n",
        "plt.show()\n",
        "\n",
        "# Print the chart\n",
        "plt.show()"
      ],
      "metadata": {
        "colab": {
          "base_uri": "https://localhost:8080/",
          "height": 295
        },
        "id": "nizFqmQX_N3Q",
        "outputId": "27264bae-976c-4097-ff85-df3802127c89"
      },
      "execution_count": null,
      "outputs": [
        {
          "output_type": "display_data",
          "data": {
            "text/plain": [
              "<Figure size 432x288 with 1 Axes>"
            ],
            "image/png": "[encoded data removed]"
          },
          "metadata": {
            "needs_background": "light"
          }
        }
      ]
    },
    {
      "cell_type": "code",
      "source": [
        "import matplotlib.pyplot as plt\n",
        "import pandas as pd\n",
        "\n",
        "y = pd.array([2.1, (1.6), (4.4), (0.6)])\n",
        "mylabels = [\"1950\", \"1975\", \"2000\", \"2021\"]\n",
        "\n",
        "plt.pie(y, labels = mylabels)\n",
        "plt.legend(bbox_to_anchor=(1.05, 1), loc='upper left', borderaxespad=0, title = \"Migration Year: \")\n",
        "\n",
        "plt.show() "
      ],
      "metadata": {
        "colab": {
          "base_uri": "https://localhost:8080/",
          "height": 248
        },
        "id": "hLRGcCz1MJ2M",
        "outputId": "f62f4737-141e-4338-b983-b004fbd0fe07"
      },
      "execution_count": null,
      "outputs": [
        {
          "output_type": "display_data",
          "data": {
            "text/plain": [
              "<Figure size 432x288 with 1 Axes>"
            ],
            "image/png": "[encoded data removed]"
          },
          "metadata": {}
        }
      ]
    }
  ]
}